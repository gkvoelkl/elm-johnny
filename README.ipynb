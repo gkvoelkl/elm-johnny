{
 "cells": [
  {
   "cell_type": "markdown",
   "id": "f4169895-9110-4d6a-8552-3ee0d49d8270",
   "metadata": {},
   "source": [
    "# Where is my apple? - My first game with Elm"
   ]
  },
  {
   "cell_type": "markdown",
   "id": "e5363834-a363-4313-9ba8-73a15855c68a",
   "metadata": {},
   "source": [
    "I made my first game with Elm. \n",
    "\n",
    "Thanks Kenney https://kenney.nl for the assets\n",
    "\n",
    "You can play it on https://gkvoelkl.itch.io/johnny-where-is-my"
   ]
  },
  {
   "cell_type": "markdown",
   "id": "1a3ce75c-ed7c-483f-a295-716fc6205037",
   "metadata": {},
   "source": [
    "<img src=\"img/step.gif\" width=\"480\" align=\"left\"><br><br><br><br><br><br><br><br><br><br><br><br><br><br>"
   ]
  },
  {
   "cell_type": "code",
   "execution_count": null,
   "id": "869fefb8-aa87-47ec-9858-bd0677a86406",
   "metadata": {},
   "outputs": [],
   "source": []
  }
 ],
 "metadata": {
  "kernelspec": {
   "display_name": "Rust",
   "language": "rust",
   "name": "rust"
  },
  "language_info": {
   "codemirror_mode": "rust",
   "file_extension": ".rs",
   "mimetype": "text/rust",
   "name": "Rust",
   "pygment_lexer": "rust",
   "version": ""
  }
 },
 "nbformat": 4,
 "nbformat_minor": 5
}
